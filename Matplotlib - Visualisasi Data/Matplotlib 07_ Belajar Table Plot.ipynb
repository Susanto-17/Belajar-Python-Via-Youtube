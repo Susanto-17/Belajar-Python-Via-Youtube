{
 "cells": [
  {
   "cell_type": "markdown",
   "id": "4def5c8c",
   "metadata": {},
   "source": [
    "# Table Plot / Table Chart\n",
    "\n",
    "Dalam sesi ini kita akan mempelajari cara membuat table plot dengan matplotlib."
   ]
  },
  {
   "cell_type": "markdown",
   "id": "79411834",
   "metadata": {},
   "source": [
    "## 1. Import Modules"
   ]
  },
  {
   "cell_type": "code",
   "execution_count": 1,
   "id": "10e4172f",
   "metadata": {},
   "outputs": [],
   "source": [
    "%matplotlib inline"
   ]
  },
  {
   "cell_type": "code",
   "execution_count": 2,
   "id": "2d09844f",
   "metadata": {},
   "outputs": [
    {
     "name": "stdout",
     "output_type": "stream",
     "text": [
      "3.3.4\n",
      "1.20.1\n"
     ]
    }
   ],
   "source": [
    "import matplotlib\n",
    "import matplotlib.pyplot as plt\n",
    "import numpy as np\n",
    "\n",
    "print(matplotlib.__version__)\n",
    "print(np.__version__)"
   ]
  },
  {
   "cell_type": "markdown",
   "id": "212d1678",
   "metadata": {},
   "source": [
    "## 2. Sample data "
   ]
  },
  {
   "cell_type": "code",
   "execution_count": 3,
   "id": "ecc9df20",
   "metadata": {},
   "outputs": [],
   "source": [
    "data_uas = [\n",
    "    ['Bejo', 70],\n",
    "    ['Tejo', 83],\n",
    "    ['Cecep', 62],\n",
    "    ['Wati', 74],\n",
    "    ['Karti', 71]\n",
    "]"
   ]
  },
  {
   "cell_type": "code",
   "execution_count": 4,
   "id": "03d8b158",
   "metadata": {},
   "outputs": [
    {
     "data": {
      "text/plain": [
       "[['Bejo', 70], ['Tejo', 83], ['Cecep', 62], ['Wati', 74], ['Karti', 71]]"
      ]
     },
     "execution_count": 4,
     "metadata": {},
     "output_type": "execute_result"
    }
   ],
   "source": [
    "data_uas"
   ]
  },
  {
   "cell_type": "markdown",
   "id": "6f74fd83",
   "metadata": {},
   "source": [
    "## 3. Table Plot dengan OO Style "
   ]
  },
  {
   "cell_type": "code",
   "execution_count": 5,
   "id": "45f883b8",
   "metadata": {},
   "outputs": [
    {
     "data": {
      "image/png": "[encoded data removed]",
      "text/plain": [
       "<Figure size 432x288 with 1 Axes>"
      ]
     },
     "metadata": {
      "needs_background": "light"
     },
     "output_type": "display_data"
    }
   ],
   "source": [
    "fig, ax = plt.subplots()\n",
    "\n",
    "table = plt.table(cellText = data_uas,\n",
    "                 loc = 'center')\n",
    "\n",
    "table.set_fontsize(14)\n",
    "table.scale(1,4)\n",
    "\n",
    "ax.axis(False)\n",
    "\n",
    "plt.show()"
   ]
  },
  {
   "cell_type": "markdown",
   "id": "76e59e9a",
   "metadata": {},
   "source": [
    "## 4. Table plot dengan pyplot style "
   ]
  },
  {
   "cell_type": "code",
   "execution_count": 6,
   "id": "5910bd9d",
   "metadata": {},
   "outputs": [
    {
     "data": {
      "image/png": "[encoded data removed]",
      "text/plain": [
       "<Figure size 432x288 with 1 Axes>"
      ]
     },
     "metadata": {
      "needs_background": "light"
     },
     "output_type": "display_data"
    }
   ],
   "source": [
    "table = plt.table(cellText = data_uas,\n",
    "                 loc = 'center')\n",
    "\n",
    "table.set_fontsize(14)\n",
    "table.scale(1, 4)\n",
    "\n",
    "ax = plt.gca()\n",
    "ax.axis(False)\n",
    "\n",
    "plt.show()"
   ]
  },
  {
   "cell_type": "code",
   "execution_count": null,
   "id": "88076f71",
   "metadata": {},
   "outputs": [],
   "source": []
  }
 ],
 "metadata": {
  "kernelspec": {
   "display_name": "Python 3",
   "language": "python",
   "name": "python3"
  },
  "language_info": {
   "codemirror_mode": {
    "name": "ipython",
    "version": 3
   },
   "file_extension": ".py",
   "mimetype": "text/x-python",
   "name": "python",
   "nbconvert_exporter": "python",
   "pygments_lexer": "ipython3",
   "version": "3.8.8"
  }
 },
 "nbformat": 4,
 "nbformat_minor": 5
}
