{
 "cells": [
  {
   "cell_type": "markdown",
   "id": "fe40cdb9",
   "metadata": {},
   "source": [
    "# Countour Plot\n",
    "\n",
    "Dalam sesi ini kita akan mempelajari cara membuat countour plot dengan Matplotlib."
   ]
  },
  {
   "cell_type": "markdown",
   "id": "a45bacd9",
   "metadata": {},
   "source": [
    "## 1. Import Modules "
   ]
  },
  {
   "cell_type": "code",
   "execution_count": 1,
   "id": "00c3b2b8",
   "metadata": {},
   "outputs": [],
   "source": [
    "%matplotlib inline"
   ]
  },
  {
   "cell_type": "code",
   "execution_count": 2,
   "id": "e95770d9",
   "metadata": {},
   "outputs": [
    {
     "name": "stdout",
     "output_type": "stream",
     "text": [
      "3.3.4\n",
      "1.20.1\n"
     ]
    }
   ],
   "source": [
    "import matplotlib\n",
    "import matplotlib.pyplot as plt\n",
    "import numpy as np\n",
    "\n",
    "print(matplotlib.__version__)\n",
    "print(np.__version__)"
   ]
  },
  {
   "cell_type": "markdown",
   "id": "2dd14284",
   "metadata": {},
   "source": [
    "## 2. Sample Dataset"
   ]
  },
  {
   "cell_type": "code",
   "execution_count": 3,
   "id": "bc53c219",
   "metadata": {},
   "outputs": [
    {
     "name": "stdout",
     "output_type": "stream",
     "text": [
      "(100, 100)\n",
      "(100, 100)\n",
      "(100, 100)\n"
     ]
    }
   ],
   "source": [
    "n = np.linspace(-3.0, 3.0, 100)\n",
    "\n",
    "x, y = np.meshgrid(n, n)\n",
    "z = np.sqrt(x**2, y**2)\n",
    "\n",
    "print(x.shape)\n",
    "print(y.shape)\n",
    "print(z.shape)"
   ]
  },
  {
   "cell_type": "markdown",
   "id": "50c35d9e",
   "metadata": {},
   "source": [
    "## 3. Contour Plot"
   ]
  },
  {
   "cell_type": "code",
   "execution_count": 4,
   "id": "0eb347a8",
   "metadata": {},
   "outputs": [
    {
     "data": {
      "image/png": "[encoded data removed]",
      "text/plain": [
       "<Figure size 432x288 with 2 Axes>"
      ]
     },
     "metadata": {
      "needs_background": "light"
     },
     "output_type": "display_data"
    }
   ],
   "source": [
    "plt.contour(x, y, z)\n",
    "plt.colorbar()\n",
    "\n",
    "plt.title('Contour Plot')\n",
    "plt.xlabel('Sumbu X')\n",
    "plt.ylabel('Sumbu Y')\n",
    "\n",
    "plt.show()"
   ]
  },
  {
   "cell_type": "markdown",
   "id": "5c5d3c95",
   "metadata": {},
   "source": [
    "# 4. Filled Contour Plot"
   ]
  },
  {
   "cell_type": "code",
   "execution_count": 5,
   "id": "e9738585",
   "metadata": {},
   "outputs": [
    {
     "data": {
      "image/png": "[encoded data removed]",
      "text/plain": [
       "<Figure size 432x288 with 2 Axes>"
      ]
     },
     "metadata": {
      "needs_background": "light"
     },
     "output_type": "display_data"
    }
   ],
   "source": [
    "plt.contourf(x, y, z)\n",
    "plt.colorbar()\n",
    "\n",
    "plt.title('Filled Contour Plot')\n",
    "plt.xlabel('Sumbu X')\n",
    "plt.ylabel('Sumbu Y')\n",
    "\n",
    "plt.show()"
   ]
  }
 ],
 "metadata": {
  "kernelspec": {
   "display_name": "Python 3",
   "language": "python",
   "name": "python3"
  },
  "language_info": {
   "codemirror_mode": {
    "name": "ipython",
    "version": 3
   },
   "file_extension": ".py",
   "mimetype": "text/x-python",
   "name": "python",
   "nbconvert_exporter": "python",
   "pygments_lexer": "ipython3",
   "version": "3.8.8"
  }
 },
 "nbformat": 4,
 "nbformat_minor": 5
}
