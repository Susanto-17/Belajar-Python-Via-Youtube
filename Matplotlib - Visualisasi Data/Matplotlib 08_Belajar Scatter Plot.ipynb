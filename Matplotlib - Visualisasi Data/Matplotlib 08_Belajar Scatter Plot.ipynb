{
 "cells": [
  {
   "cell_type": "markdown",
   "id": "f37bf265",
   "metadata": {},
   "source": [
    "## Scatter Plot / Scatter Chart \n",
    "\n",
    "Dalam sesi ini kita akan mempelajari cara membuat scatter plot dengan matplotlib."
   ]
  },
  {
   "cell_type": "code",
   "execution_count": 1,
   "id": "d00619bb",
   "metadata": {},
   "outputs": [],
   "source": [
    "%matplotlib inline"
   ]
  },
  {
   "cell_type": "code",
   "execution_count": 2,
   "id": "06982ee1",
   "metadata": {},
   "outputs": [
    {
     "name": "stdout",
     "output_type": "stream",
     "text": [
      "3.3.4\n"
     ]
    }
   ],
   "source": [
    "import matplotlib\n",
    "import matplotlib.pyplot as plt\n",
    "\n",
    "print(matplotlib.__version__)"
   ]
  },
  {
   "cell_type": "markdown",
   "id": "31f94fd5",
   "metadata": {},
   "source": [
    "## 1. Simple Scatter Plot"
   ]
  },
  {
   "cell_type": "code",
   "execution_count": 3,
   "id": "24482699",
   "metadata": {},
   "outputs": [],
   "source": [
    "x = [2, 4, 6, 8, 10, 11, 11.5, 11.7]\n",
    "y = [1, 1.5, 2, 2.5, 3, 3.5, 4, 4.5]"
   ]
  },
  {
   "cell_type": "code",
   "execution_count": 4,
   "id": "64d6e58a",
   "metadata": {},
   "outputs": [
    {
     "data": {
      "image/png": "[encoded data removed]",
      "text/plain": [
       "<Figure size 432x288 with 1 Axes>"
      ]
     },
     "metadata": {
      "needs_background": "light"
     },
     "output_type": "display_data"
    }
   ],
   "source": [
    "plt.scatter(x, y, label = 'Data 1', color = 'r')\n",
    "\n",
    "plt.xlabel('Sumbu X')\n",
    "plt.ylabel('Sumbu Y')\n",
    "plt.title('Contoh Scatter Plot')\n",
    "\n",
    "plt.legend()\n",
    "\n",
    "plt.show()"
   ]
  },
  {
   "cell_type": "markdown",
   "id": "adb45652",
   "metadata": {},
   "source": [
    "## 2. Multiple Scatter Plot "
   ]
  },
  {
   "cell_type": "code",
   "execution_count": 5,
   "id": "7716e81c",
   "metadata": {},
   "outputs": [],
   "source": [
    "x1 = [2, 4, 6, 8, 10, 11, 11.5, 11.7]\n",
    "y1 = [1, 1.5, 2, 2.5, 3, 3.5, 4, 4.5]\n",
    "\n",
    "x2 = [8, 8.5, 9, 9.5, 10, 10.5, 11]\n",
    "y2 = [3, 3.5, 3.7, 4, 4.5, 5, 5.2]"
   ]
  },
  {
   "cell_type": "code",
   "execution_count": 6,
   "id": "26ad594e",
   "metadata": {},
   "outputs": [
    {
     "data": {
      "image/png": "[encoded data removed]",
      "text/plain": [
       "<Figure size 432x288 with 1 Axes>"
      ]
     },
     "metadata": {
      "needs_background": "light"
     },
     "output_type": "display_data"
    }
   ],
   "source": [
    "plt.scatter(x1, y1, label = 'Data 1', color = 'r')\n",
    "plt.scatter(x2, y2, label = 'Data 2', color = 'b')\n",
    "\n",
    "plt.xlabel('Sumbu X')\n",
    "plt.ylabel('Sumbu Y')\n",
    "plt.title('Multiple Scatter Plot')\n",
    "\n",
    "plt.legend()\n",
    "\n",
    "plt.show()"
   ]
  },
  {
   "cell_type": "markdown",
   "id": "a4c1a95a",
   "metadata": {},
   "source": [
    "## 3. Pengaturan Marker "
   ]
  },
  {
   "cell_type": "code",
   "execution_count": 7,
   "id": "0eceb099",
   "metadata": {},
   "outputs": [],
   "source": [
    "x1 = [2, 4, 6, 8, 10, 11, 11.5, 11.7]\n",
    "y1 = [1, 1.5, 2, 2.5, 3, 3.5, 4, 4.5]\n",
    "\n",
    "x2 = [8, 8.5, 9, 9.5, 10, 10.5, 11]\n",
    "y2 = [3, 3.5, 3.7, 4, 4.5, 5, 5.2]"
   ]
  },
  {
   "cell_type": "code",
   "execution_count": 8,
   "id": "96155bcc",
   "metadata": {},
   "outputs": [
    {
     "data": {
      "image/png": "[encoded data removed]",
      "text/plain": [
       "<Figure size 432x288 with 1 Axes>"
      ]
     },
     "metadata": {
      "needs_background": "light"
     },
     "output_type": "display_data"
    }
   ],
   "source": [
    "plt.scatter(x1, y1,\n",
    "           color = 'cyan',\n",
    "           linewidth = 1,\n",
    "           marker = 's',\n",
    "           edgecolor = 'red',\n",
    "           s = 100)\n",
    "\n",
    "plt.scatter(x2, y2,\n",
    "           color = 'yellow',\n",
    "           linewidth = 1,\n",
    "           marker = '^',\n",
    "           edgecolor = 'blue',\n",
    "           s = 200)\n",
    "\n",
    "plt.show()"
   ]
  },
  {
   "cell_type": "markdown",
   "id": "15219d28",
   "metadata": {},
   "source": [
    "## 4. Scatter Plot untuk data multi dimensi "
   ]
  },
  {
   "cell_type": "code",
   "execution_count": 9,
   "id": "5aee66fe",
   "metadata": {},
   "outputs": [],
   "source": [
    "from sklearn.datasets import load_iris\n",
    "iris = load_iris()"
   ]
  },
  {
   "cell_type": "code",
   "execution_count": 10,
   "id": "65f543f0",
   "metadata": {},
   "outputs": [
    {
     "ename": "NameError",
     "evalue": "name 'features' is not defined",
     "output_type": "error",
     "traceback": [
      "\u001b[1;31m---------------------------------------------------------------------------\u001b[0m",
      "\u001b[1;31mNameError\u001b[0m                                 Traceback (most recent call last)",
      "\u001b[1;32m<ipython-input-10-224628ecf868>\u001b[0m in \u001b[0;36m<module>\u001b[1;34m\u001b[0m\n\u001b[1;32m----> 1\u001b[1;33m \u001b[0mfeatures\u001b[0m\u001b[1;33m\u001b[0m\u001b[1;33m\u001b[0m\u001b[0m\n\u001b[0m",
      "\u001b[1;31mNameError\u001b[0m: name 'features' is not defined"
     ]
    }
   ],
   "source": [
    "features"
   ]
  },
  {
   "cell_type": "code",
   "execution_count": null,
   "id": "726d1456",
   "metadata": {},
   "outputs": [],
   "source": [
    "iris.keys()"
   ]
  },
  {
   "cell_type": "code",
   "execution_count": null,
   "id": "b985cc2b",
   "metadata": {},
   "outputs": [],
   "source": [
    "iris['data']"
   ]
  },
  {
   "cell_type": "code",
   "execution_count": null,
   "id": "eceab108",
   "metadata": {},
   "outputs": [],
   "source": [
    "iris['feature_names']"
   ]
  },
  {
   "cell_type": "code",
   "execution_count": null,
   "id": "700595cd",
   "metadata": {},
   "outputs": [],
   "source": [
    "features = iris['data'].T\n",
    "features"
   ]
  },
  {
   "cell_type": "code",
   "execution_count": null,
   "id": "76ffb34f",
   "metadata": {},
   "outputs": [],
   "source": [
    "iris['target']"
   ]
  },
  {
   "cell_type": "code",
   "execution_count": null,
   "id": "830d366e",
   "metadata": {},
   "outputs": [],
   "source": [
    "iris['target_names']"
   ]
  },
  {
   "cell_type": "code",
   "execution_count": null,
   "id": "15690d09",
   "metadata": {},
   "outputs": [],
   "source": [
    "plt.scatter(features[0], features[1],\n",
    "           alpha = 0.2,\n",
    "           s = 100*features[3],\n",
    "           c = iris['target'],\n",
    "           cmap = 'viridis')\n",
    "\n",
    "plt.xlabel(iris['feature_names'][0])\n",
    "plt.ylabel(iris['feature_names'][1])\n",
    "plt.title('Iris Dataset')\n",
    "\n",
    "plt.colorbar()\n",
    "\n",
    "plt.show()"
   ]
  }
 ],
 "metadata": {
  "kernelspec": {
   "display_name": "Python 3",
   "language": "python",
   "name": "python3"
  },
  "language_info": {
   "codemirror_mode": {
    "name": "ipython",
    "version": 3
   },
   "file_extension": ".py",
   "mimetype": "text/x-python",
   "name": "python",
   "nbconvert_exporter": "python",
   "pygments_lexer": "ipython3",
   "version": "3.8.8"
  }
 },
 "nbformat": 4,
 "nbformat_minor": 5
}
